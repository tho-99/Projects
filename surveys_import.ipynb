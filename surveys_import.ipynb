{
 "cells": [
  {
   "cell_type": "markdown",
   "id": "43c1c585",
   "metadata": {},
   "source": [
    "# How to automate the surveys import data from exported csv to csv ready for reimport"
   ]
  },
  {
   "cell_type": "code",
   "execution_count": 9,
   "id": "01e5c17e",
   "metadata": {},
   "outputs": [
    {
     "name": "stdout",
     "output_type": "stream",
     "text": [
      "(3000, 4)\n",
      "(300, 11)\n"
     ]
    }
   ],
   "source": [
    "import numpy as numpy\n",
    "import pandas as pd\n",
    "\n",
    "# first want to read in the relevant files that have been exported from zoho and saved locally\n",
    "surveys_df = pd.read_csv(\"survey_meeting_data.csv\")\n",
    "meetings_df = pd.read_csv(\"unclean_meeting_data.csv\")\n",
    "\n",
    "# Here we can see that the meetings data is much smaller as expected than the surveys data\n",
    "print(surveys_df.shape)\n",
    "print(meetings_df.shape)"
   ]
  },
  {
   "cell_type": "code",
   "execution_count": 28,
   "id": "594b89a1",
   "metadata": {},
   "outputs": [
    {
     "name": "stdout",
     "output_type": "stream",
     "text": [
      "                    record id               contact id      meeting date  \\\n",
      "0     zcrm_320802604325254432  zcrm_042136841072605108  09/03/2025 18:36   \n",
      "1     zcrm_738159058472913918  zcrm_181557237270304223  14/02/2025 22:38   \n",
      "3     zcrm_196559075229783826  zcrm_315745185925721556  17/09/2024 00:59   \n",
      "4     zcrm_374945616101533499  zcrm_681686097978267040  06/04/2025 19:47   \n",
      "5     zcrm_265136049949762880  zcrm_041300893630610318  11/02/2025 04:53   \n",
      "...                       ...                      ...               ...   \n",
      "2995  zcrm_069374916844849724  zcrm_542570337894401310  21/05/2025 02:01   \n",
      "2996  zcrm_312683327856144669  zcrm_799798912144082801  11/01/2025 18:32   \n",
      "2997  zcrm_617241916481080369  zcrm_012525035280051151  29/12/2024 08:15   \n",
      "2998  zcrm_722887276962504106  zcrm_071454531841603123  18/09/2024 04:52   \n",
      "2999  zcrm_188209018525192710  zcrm_897535896668710880  12/04/2025 05:45   \n",
      "\n",
      "         survey status  \n",
      "0               call 1  \n",
      "1     survey completed  \n",
      "3               call 3  \n",
      "4               call 4  \n",
      "5               call 5  \n",
      "...                ...  \n",
      "2995            call 4  \n",
      "2996            call 4  \n",
      "2997  survey completed  \n",
      "2998            call 1  \n",
      "2999            call 2  \n",
      "\n",
      "[2557 rows x 4 columns]\n"
     ]
    }
   ],
   "source": [
    "# Next I want to remove any rows in the surveys data where the survey status is \"Survey Failed\"\n",
    "\n",
    "surveys = surveys_df[surveys_df[\"survey status\"] != \"survey failed\"]\n",
    "print(surveys)"
   ]
  }
 ],
 "metadata": {
  "kernelspec": {
   "display_name": "base",
   "language": "python",
   "name": "python3"
  },
  "language_info": {
   "codemirror_mode": {
    "name": "ipython",
    "version": 3
   },
   "file_extension": ".py",
   "mimetype": "text/x-python",
   "name": "python",
   "nbconvert_exporter": "python",
   "pygments_lexer": "ipython3",
   "version": "3.11.7"
  }
 },
 "nbformat": 4,
 "nbformat_minor": 5
}
